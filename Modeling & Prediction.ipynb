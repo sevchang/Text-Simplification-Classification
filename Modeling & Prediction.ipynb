{
 "cells": [
  {
   "cell_type": "code",
   "execution_count": 1,
   "id": "warming-barrier",
   "metadata": {},
   "outputs": [],
   "source": [
    "import pandas as pd\n",
    "import numpy as np\n",
    "from sklearn.model_selection import train_test_split\n",
    "\n",
    "import lightgbm as lgb\n",
    "from sklearn.ensemble import RandomForestClassifier, GradientBoostingClassifier, AdaBoostClassifier\n",
    "from sklearn.model_selection import GridSearchCV, cross_validate\n",
    "from sklearn import metrics\n",
    "\n",
    "X = pd.read_csv('train_data.csv')\n",
    "y = pd.read_csv('train_label.csv')"
   ]
  },
  {
   "cell_type": "code",
   "execution_count": 2,
   "id": "difficult-disaster",
   "metadata": {},
   "outputs": [
    {
     "data": {
      "text/plain": [
       "array([0.72765173, 0.72492239, 0.72786167, 0.72766672, 0.72454336])"
      ]
     },
     "execution_count": 2,
     "metadata": {},
     "output_type": "execute_result"
    }
   ],
   "source": [
    "X_train, X_test, y_train, y_test = train_test_split(X, y, test_size=0.2, random_state=695)\n",
    "\n",
    "forest = RandomForestClassifier(random_state=695)   \n",
    "cv_results = cross_validate(forest, X_train, y_train, cv=5)\n",
    "cv_results['test_score']"
   ]
  },
  {
   "cell_type": "code",
   "execution_count": 3,
   "id": "proper-wrong",
   "metadata": {},
   "outputs": [
    {
     "data": {
      "text/plain": [
       "0.7341699258583871"
      ]
     },
     "execution_count": 3,
     "metadata": {},
     "output_type": "execute_result"
    }
   ],
   "source": [
    "clf = RandomForestClassifier(random_state=695)   \n",
    "clf.fit(X_train, y_train)\n",
    "clf.score(X_test, y_test)"
   ]
  },
  {
   "cell_type": "code",
   "execution_count": 4,
   "id": "asian-pillow",
   "metadata": {},
   "outputs": [
    {
     "name": "stdout",
     "output_type": "stream",
     "text": [
      "              precision    recall  f1-score   support\n",
      "\n",
      "           0       0.74      0.72      0.73     41577\n",
      "           1       0.73      0.75      0.74     41777\n",
      "\n",
      "    accuracy                           0.73     83354\n",
      "   macro avg       0.73      0.73      0.73     83354\n",
      "weighted avg       0.73      0.73      0.73     83354\n",
      "\n"
     ]
    }
   ],
   "source": [
    "print(metrics.classification_report(y_test, clf.predict(X_test)))"
   ]
  },
  {
   "cell_type": "code",
   "execution_count": 5,
   "id": "contemporary-invention",
   "metadata": {},
   "outputs": [
    {
     "data": {
      "text/plain": [
       "array([[0.7       , 0.3       ],\n",
       "       [0.71333333, 0.28666667],\n",
       "       [0.73      , 0.27      ],\n",
       "       ...,\n",
       "       [0.14      , 0.86      ],\n",
       "       [0.01      , 0.99      ],\n",
       "       [0.23      , 0.77      ]])"
      ]
     },
     "execution_count": 5,
     "metadata": {},
     "output_type": "execute_result"
    }
   ],
   "source": [
    "forest_pred = clf.predict_proba(X_test)\n",
    "series1 = pd.DataFrame(forest_pred)[1]\n",
    "\n",
    "forest_pred"
   ]
  },
  {
   "cell_type": "code",
   "execution_count": 6,
   "id": "another-monaco",
   "metadata": {},
   "outputs": [
    {
     "data": {
      "text/plain": [
       "0.6832185617966744"
      ]
     },
     "execution_count": 6,
     "metadata": {},
     "output_type": "execute_result"
    }
   ],
   "source": [
    "clf = GradientBoostingClassifier(random_state=695)   \n",
    "clf.fit(X_train,y_train)\n",
    "clf.score(X_test,y_test)"
   ]
  },
  {
   "cell_type": "code",
   "execution_count": 7,
   "id": "earlier-monthly",
   "metadata": {},
   "outputs": [],
   "source": [
    "g_boost_pred = clf.predict_proba(X_test)\n",
    "series2 = pd.DataFrame(g_boost_pred)[1]"
   ]
  },
  {
   "cell_type": "code",
   "execution_count": 8,
   "id": "composed-review",
   "metadata": {},
   "outputs": [
    {
     "data": {
      "text/plain": [
       "0.6701538018571395"
      ]
     },
     "execution_count": 8,
     "metadata": {},
     "output_type": "execute_result"
    }
   ],
   "source": [
    "clf = AdaBoostClassifier(random_state=695)   \n",
    "clf.fit(X_train,y_train)\n",
    "clf.score(X_test,y_test)"
   ]
  },
  {
   "cell_type": "code",
   "execution_count": 9,
   "id": "accurate-breakdown",
   "metadata": {},
   "outputs": [],
   "source": [
    "ada_pred = clf.predict_proba(X_test)\n",
    "series3 = pd.DataFrame(ada_pred)[1]"
   ]
  },
  {
   "cell_type": "code",
   "execution_count": 10,
   "id": "artistic-syndicate",
   "metadata": {},
   "outputs": [
    {
     "name": "stdout",
     "output_type": "stream",
     "text": [
      "[20]\ttraining's binary_logloss: 0.589889\tvalid_0's binary_logloss: 0.590776\n",
      "[40]\ttraining's binary_logloss: 0.5755\tvalid_0's binary_logloss: 0.577239\n",
      "[60]\ttraining's binary_logloss: 0.568282\tvalid_0's binary_logloss: 0.571229\n",
      "[80]\ttraining's binary_logloss: 0.563315\tvalid_0's binary_logloss: 0.567961\n",
      "[100]\ttraining's binary_logloss: 0.559364\tvalid_0's binary_logloss: 0.565641\n"
     ]
    },
    {
     "data": {
      "text/plain": [
       "LGBMClassifier(random_state=694)"
      ]
     },
     "execution_count": 10,
     "metadata": {},
     "output_type": "execute_result"
    }
   ],
   "source": [
    "model = lgb.LGBMClassifier(learning_rate=0.1,max_depth=-1,random_state=694)\n",
    "\n",
    "model.fit(X_train,y_train,eval_set=[(X_test,y_test),(X_train,y_train)],verbose = 20)"
   ]
  },
  {
   "cell_type": "code",
   "execution_count": 11,
   "id": "martial-frost",
   "metadata": {},
   "outputs": [
    {
     "data": {
      "text/plain": [
       "(0.7013352768629991, 0.6956714734745783)"
      ]
     },
     "execution_count": 11,
     "metadata": {},
     "output_type": "execute_result"
    }
   ],
   "source": [
    "model.score(X_train,y_train), model.score(X_test,y_test)"
   ]
  },
  {
   "cell_type": "code",
   "execution_count": 12,
   "id": "vulnerable-freedom",
   "metadata": {},
   "outputs": [
    {
     "name": "stdout",
     "output_type": "stream",
     "text": [
      "              precision    recall  f1-score   support\n",
      "\n",
      "           0       0.71      0.66      0.68     41577\n",
      "           1       0.68      0.73      0.71     41777\n",
      "\n",
      "    accuracy                           0.70     83354\n",
      "   macro avg       0.70      0.70      0.70     83354\n",
      "weighted avg       0.70      0.70      0.70     83354\n",
      "\n"
     ]
    }
   ],
   "source": [
    "print(metrics.classification_report(y_test, model.predict(X_test)))"
   ]
  },
  {
   "cell_type": "code",
   "execution_count": 13,
   "id": "random-conviction",
   "metadata": {},
   "outputs": [],
   "source": [
    "light_pred = model.predict_proba(X_test)\n",
    "series4 = pd.DataFrame(light_pred)[1]"
   ]
  },
  {
   "cell_type": "code",
   "execution_count": 14,
   "id": "challenging-cincinnati",
   "metadata": {},
   "outputs": [
    {
     "data": {
      "text/html": [
       "<div>\n",
       "<style scoped>\n",
       "    .dataframe tbody tr th:only-of-type {\n",
       "        vertical-align: middle;\n",
       "    }\n",
       "\n",
       "    .dataframe tbody tr th {\n",
       "        vertical-align: top;\n",
       "    }\n",
       "\n",
       "    .dataframe thead th {\n",
       "        text-align: right;\n",
       "    }\n",
       "</style>\n",
       "<table border=\"1\" class=\"dataframe\">\n",
       "  <thead>\n",
       "    <tr style=\"text-align: right;\">\n",
       "      <th></th>\n",
       "      <th>randomforest_pred</th>\n",
       "      <th>gboost_pred</th>\n",
       "      <th>adaboost_pred</th>\n",
       "      <th>lightgbm_pred</th>\n",
       "      <th>true_label</th>\n",
       "    </tr>\n",
       "  </thead>\n",
       "  <tbody>\n",
       "    <tr>\n",
       "      <th>0</th>\n",
       "      <td>0.300000</td>\n",
       "      <td>0.192014</td>\n",
       "      <td>0.493285</td>\n",
       "      <td>0.237271</td>\n",
       "      <td>0</td>\n",
       "    </tr>\n",
       "    <tr>\n",
       "      <th>1</th>\n",
       "      <td>0.286667</td>\n",
       "      <td>0.387071</td>\n",
       "      <td>0.496220</td>\n",
       "      <td>0.394508</td>\n",
       "      <td>0</td>\n",
       "    </tr>\n",
       "    <tr>\n",
       "      <th>2</th>\n",
       "      <td>0.270000</td>\n",
       "      <td>0.340027</td>\n",
       "      <td>0.498010</td>\n",
       "      <td>0.261894</td>\n",
       "      <td>0</td>\n",
       "    </tr>\n",
       "    <tr>\n",
       "      <th>3</th>\n",
       "      <td>0.310000</td>\n",
       "      <td>0.341312</td>\n",
       "      <td>0.496605</td>\n",
       "      <td>0.291639</td>\n",
       "      <td>0</td>\n",
       "    </tr>\n",
       "    <tr>\n",
       "      <th>4</th>\n",
       "      <td>0.000000</td>\n",
       "      <td>0.182456</td>\n",
       "      <td>0.496262</td>\n",
       "      <td>0.028853</td>\n",
       "      <td>0</td>\n",
       "    </tr>\n",
       "  </tbody>\n",
       "</table>\n",
       "</div>"
      ],
      "text/plain": [
       "   randomforest_pred  gboost_pred  adaboost_pred  lightgbm_pred  true_label\n",
       "0           0.300000     0.192014       0.493285       0.237271           0\n",
       "1           0.286667     0.387071       0.496220       0.394508           0\n",
       "2           0.270000     0.340027       0.498010       0.261894           0\n",
       "3           0.310000     0.341312       0.496605       0.291639           0\n",
       "4           0.000000     0.182456       0.496262       0.028853           0"
      ]
     },
     "execution_count": 14,
     "metadata": {},
     "output_type": "execute_result"
    }
   ],
   "source": [
    "df = pd.DataFrame()\n",
    "\n",
    "df['randomforest_pred'] = series1\n",
    "df['gboost_pred'] = series2\n",
    "df['adaboost_pred'] = series3\n",
    "df['lightgbm_pred'] = series4\n",
    "df['true_label'] = y_test.reset_index()['label']\n",
    "\n",
    "df.to_csv('predict_proba.csv',index=False)\n",
    "df.head()\n",
    "\n",
    "# save the predicted probabilities of instances along with the true labels for failure analysis"
   ]
  },
  {
   "cell_type": "code",
   "execution_count": 15,
   "id": "nearby-optimization",
   "metadata": {},
   "outputs": [
    {
     "data": {
      "text/plain": [
       "<AxesSubplot:title={'center':'Feature importance'}, xlabel='Feature importance', ylabel='Features'>"
      ]
     },
     "execution_count": 15,
     "metadata": {},
     "output_type": "execute_result"
    },
    {
     "data": {
      "image/png": "[encoded data removed]",
      "text/plain": [
       "<Figure size 1152x648 with 1 Axes>"
      ]
     },
     "metadata": {
      "needs_background": "light"
     },
     "output_type": "display_data"
    }
   ],
   "source": [
    "lgb.plot_importance(model, max_num_features = 20, figsize=(16,9))"
   ]
  },
  {
   "cell_type": "code",
   "execution_count": 16,
   "id": "distinguished-filing",
   "metadata": {},
   "outputs": [
    {
     "data": {
      "text/plain": [
       "<AxesSubplot:title={'center':'Metric during training'}, xlabel='Iterations', ylabel='binary_logloss'>"
      ]
     },
     "execution_count": 16,
     "metadata": {},
     "output_type": "execute_result"
    },
    {
     "data": {
      "image/png": "[encoded data removed]",
      "text/plain": [
       "<Figure size 1152x648 with 1 Axes>"
      ]
     },
     "metadata": {
      "needs_background": "light"
     },
     "output_type": "display_data"
    }
   ],
   "source": [
    "lgb.plot_metric(model,figsize=(16,9))"
   ]
  },
  {
   "cell_type": "code",
   "execution_count": null,
   "id": "cutting-runner",
   "metadata": {},
   "outputs": [],
   "source": []
  }
 ],
 "metadata": {
  "kernelspec": {
   "display_name": "Python 3",
   "language": "python",
   "name": "python3"
  },
  "language_info": {
   "codemirror_mode": {
    "name": "ipython",
    "version": 3
   },
   "file_extension": ".py",
   "mimetype": "text/x-python",
   "name": "python",
   "nbconvert_exporter": "python",
   "pygments_lexer": "ipython3",
   "version": "3.7.10"
  }
 },
 "nbformat": 4,
 "nbformat_minor": 5
}
