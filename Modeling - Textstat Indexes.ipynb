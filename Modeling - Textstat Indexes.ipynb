{
 "cells": [
  {
   "cell_type": "code",
   "execution_count": 1,
   "id": "raising-antibody",
   "metadata": {},
   "outputs": [],
   "source": [
    "import pandas as pd\n",
    "import numpy as np\n",
    "from sklearn.model_selection import train_test_split\n",
    "from sklearn.ensemble import RandomForestClassifier, GradientBoostingClassifier, AdaBoostClassifier\n",
    "import lightgbm as lgb\n",
    "from sklearn.model_selection import GridSearchCV, cross_validate\n",
    "\n",
    "X = pd.read_csv('textstat_value.csv')\n",
    "y = pd.read_csv('train_label.csv')"
   ]
  },
  {
   "cell_type": "code",
   "execution_count": 2,
   "id": "entertaining-right",
   "metadata": {},
   "outputs": [
    {
     "data": {
      "text/plain": [
       "array([0.69393998, 0.69485476, 0.69609946, 0.69980355, 0.69432531])"
      ]
     },
     "execution_count": 2,
     "metadata": {},
     "output_type": "execute_result"
    }
   ],
   "source": [
    "X_train, X_test, y_train, y_test = train_test_split(X, y, test_size=0.2, random_state=694)\n",
    "forest = RandomForestClassifier(random_state=695)   \n",
    "\n",
    "cv_results = cross_validate(forest, X_train, y_train, cv=5)\n",
    "cv_results['test_score']"
   ]
  },
  {
   "cell_type": "code",
   "execution_count": 3,
   "id": "brief-insert",
   "metadata": {},
   "outputs": [
    {
     "data": {
      "text/plain": [
       "0.7026297478225401"
      ]
     },
     "execution_count": 3,
     "metadata": {},
     "output_type": "execute_result"
    }
   ],
   "source": [
    "clf = RandomForestClassifier(random_state=695)   \n",
    "clf.fit(X_train,y_train)\n",
    "clf.score(X_test,y_test)"
   ]
  },
  {
   "cell_type": "code",
   "execution_count": 4,
   "id": "gothic-token",
   "metadata": {},
   "outputs": [
    {
     "data": {
      "text/plain": [
       "array([0.65949342, 0.66351244, 0.66214777, 0.66376738, 0.66179779])"
      ]
     },
     "execution_count": 4,
     "metadata": {},
     "output_type": "execute_result"
    }
   ],
   "source": [
    "adaboost = AdaBoostClassifier(random_state=695)   \n",
    "\n",
    "cv_results = cross_validate(adaboost, X_train, y_train, cv=5)\n",
    "cv_results['test_score']"
   ]
  },
  {
   "cell_type": "code",
   "execution_count": 5,
   "id": "operational-retrieval",
   "metadata": {},
   "outputs": [
    {
     "data": {
      "text/plain": [
       "0.6611560333037406"
      ]
     },
     "execution_count": 5,
     "metadata": {},
     "output_type": "execute_result"
    }
   ],
   "source": [
    "clf = AdaBoostClassifier(random_state=695)   \n",
    "clf.fit(X_train,y_train)\n",
    "clf.score(X_test,y_test)"
   ]
  },
  {
   "cell_type": "code",
   "execution_count": 6,
   "id": "straight-complexity",
   "metadata": {},
   "outputs": [
    {
     "data": {
      "text/plain": [
       "array([0.66430724, 0.66745647, 0.66838625, 0.66846123, 0.6665367 ])"
      ]
     },
     "execution_count": 6,
     "metadata": {},
     "output_type": "execute_result"
    }
   ],
   "source": [
    "g_boost = GradientBoostingClassifier(random_state=695)   \n",
    "\n",
    "cv_results = cross_validate(g_boost, X_train, y_train, cv=5)\n",
    "cv_results['test_score']"
   ]
  },
  {
   "cell_type": "code",
   "execution_count": 7,
   "id": "recorded-boulder",
   "metadata": {},
   "outputs": [
    {
     "data": {
      "text/plain": [
       "0.6636274203997409"
      ]
     },
     "execution_count": 7,
     "metadata": {},
     "output_type": "execute_result"
    }
   ],
   "source": [
    "clf = GradientBoostingClassifier(random_state=695)   \n",
    "clf.fit(X_train,y_train)\n",
    "clf.score(X_test,y_test)"
   ]
  },
  {
   "cell_type": "code",
   "execution_count": 8,
   "id": "chronic-index",
   "metadata": {},
   "outputs": [
    {
     "name": "stdout",
     "output_type": "stream",
     "text": [
      "[20]\ttraining's binary_logloss: 0.606554\tvalid_0's binary_logloss: 0.608823\n",
      "[40]\ttraining's binary_logloss: 0.598785\tvalid_0's binary_logloss: 0.602343\n",
      "[60]\ttraining's binary_logloss: 0.595673\tvalid_0's binary_logloss: 0.600302\n",
      "[80]\ttraining's binary_logloss: 0.593566\tvalid_0's binary_logloss: 0.599218\n",
      "[100]\ttraining's binary_logloss: 0.591714\tvalid_0's binary_logloss: 0.598373\n"
     ]
    },
    {
     "data": {
      "text/plain": [
       "(0.6766512503974038, 0.6693739952491782)"
      ]
     },
     "execution_count": 8,
     "metadata": {},
     "output_type": "execute_result"
    }
   ],
   "source": [
    "model = lgb.LGBMClassifier(learning_rate=0.1,max_depth=-1,random_state=694)\n",
    "\n",
    "model.fit(X_train,y_train,eval_set=[(X_test,y_test),(X_train,y_train)],verbose = 20)\n",
    "model.score(X_train,y_train), model.score(X_test,y_test)"
   ]
  },
  {
   "cell_type": "code",
   "execution_count": null,
   "id": "impossible-karaoke",
   "metadata": {},
   "outputs": [],
   "source": []
  }
 ],
 "metadata": {
  "kernelspec": {
   "display_name": "Python 3",
   "language": "python",
   "name": "python3"
  },
  "language_info": {
   "codemirror_mode": {
    "name": "ipython",
    "version": 3
   },
   "file_extension": ".py",
   "mimetype": "text/x-python",
   "name": "python",
   "nbconvert_exporter": "python",
   "pygments_lexer": "ipython3",
   "version": "3.7.10"
  }
 },
 "nbformat": 4,
 "nbformat_minor": 5
}
