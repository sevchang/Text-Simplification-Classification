{
 "cells": [
  {
   "cell_type": "code",
   "execution_count": 1,
   "id": "raising-antibody",
   "metadata": {},
   "outputs": [],
   "source": [
    "import pandas as pd\n",
    "import numpy as np\n",
    "from sklearn.model_selection import train_test_split\n",
    "\n",
    "import lightgbm as lgb\n",
    "from sklearn.ensemble import RandomForestClassifier, GradientBoostingClassifier, AdaBoostClassifier\n",
    "from sklearn.model_selection import GridSearchCV, cross_validate"
   ]
  },
  {
   "cell_type": "code",
   "execution_count": 2,
   "id": "proof-sport",
   "metadata": {},
   "outputs": [],
   "source": [
    "X = pd.read_csv('twitter_vec_dense.csv')\n",
    "y = pd.read_csv('train_label.csv')"
   ]
  },
  {
   "cell_type": "markdown",
   "id": "systematic-rebound",
   "metadata": {},
   "source": [
    "### Twitter dense vectors modeling"
   ]
  },
  {
   "cell_type": "code",
   "execution_count": 3,
   "id": "hearing-archives",
   "metadata": {},
   "outputs": [
    {
     "data": {
      "text/plain": [
       "array([0.69085074, 0.69154057, 0.69155557, 0.68971102, 0.68853664])"
      ]
     },
     "execution_count": 3,
     "metadata": {},
     "output_type": "execute_result"
    }
   ],
   "source": [
    "X_train, X_test, y_train, y_test = train_test_split(X, y, test_size=0.2, random_state=694)\n",
    "forest = RandomForestClassifier(random_state=695)   \n",
    "\n",
    "cv_results = cross_validate(forest, X_train, y_train, cv=5)\n",
    "cv_results['test_score']"
   ]
  },
  {
   "cell_type": "code",
   "execution_count": 4,
   "id": "brief-insert",
   "metadata": {},
   "outputs": [
    {
     "data": {
      "text/plain": [
       "0.6946277323223841"
      ]
     },
     "execution_count": 4,
     "metadata": {},
     "output_type": "execute_result"
    }
   ],
   "source": [
    "clf = RandomForestClassifier(random_state=695)   \n",
    "clf.fit(X_train,y_train)\n",
    "clf.score(X_test,y_test)"
   ]
  },
  {
   "cell_type": "code",
   "execution_count": 5,
   "id": "round-haven",
   "metadata": {},
   "outputs": [
    {
     "data": {
      "text/plain": [
       "array([0.63737384, 0.63780874, 0.63830362, 0.63765877, 0.63688852])"
      ]
     },
     "execution_count": 5,
     "metadata": {},
     "output_type": "execute_result"
    }
   ],
   "source": [
    "adaboost = AdaBoostClassifier(random_state=695)   \n",
    "\n",
    "cv_results = cross_validate(adaboost, X_train, y_train, cv=5)\n",
    "cv_results['test_score']"
   ]
  },
  {
   "cell_type": "code",
   "execution_count": 6,
   "id": "statistical-printer",
   "metadata": {},
   "outputs": [
    {
     "data": {
      "text/plain": [
       "0.6347145907814862"
      ]
     },
     "execution_count": 6,
     "metadata": {},
     "output_type": "execute_result"
    }
   ],
   "source": [
    "clf = AdaBoostClassifier(random_state=695)   \n",
    "clf.fit(X_train,y_train)\n",
    "clf.score(X_test,y_test)"
   ]
  },
  {
   "cell_type": "code",
   "execution_count": 7,
   "id": "established-earth",
   "metadata": {},
   "outputs": [
    {
     "data": {
      "text/plain": [
       "array([0.66024324, 0.66136796, 0.66247769, 0.66043819, 0.66118293])"
      ]
     },
     "execution_count": 7,
     "metadata": {},
     "output_type": "execute_result"
    }
   ],
   "source": [
    "g_boost = GradientBoostingClassifier(random_state=695)   \n",
    "\n",
    "cv_results = cross_validate(g_boost, X_train, y_train, cv=5)\n",
    "cv_results['test_score']"
   ]
  },
  {
   "cell_type": "code",
   "execution_count": 8,
   "id": "impossible-karaoke",
   "metadata": {},
   "outputs": [
    {
     "data": {
      "text/plain": [
       "0.6559493245675072"
      ]
     },
     "execution_count": 8,
     "metadata": {},
     "output_type": "execute_result"
    }
   ],
   "source": [
    "clf = GradientBoostingClassifier(random_state=695)   \n",
    "clf.fit(X_train,y_train)\n",
    "clf.score(X_test,y_test)"
   ]
  },
  {
   "cell_type": "markdown",
   "id": "assured-dylan",
   "metadata": {},
   "source": [
    "### Wiki dense vectors modeling"
   ]
  },
  {
   "cell_type": "code",
   "execution_count": 9,
   "id": "periodic-motorcycle",
   "metadata": {},
   "outputs": [],
   "source": [
    "X1 = pd.read_csv('wiki_dense.csv')\n",
    "X_train, X_test, y_train, y_test = train_test_split(X1, y, test_size=0.2, random_state=694)"
   ]
  },
  {
   "cell_type": "code",
   "execution_count": 10,
   "id": "purple-advocate",
   "metadata": {},
   "outputs": [
    {
     "data": {
      "text/plain": [
       "array([0.66982589, 0.67296012, 0.67080065, 0.6718504 , 0.66904112])"
      ]
     },
     "execution_count": 10,
     "metadata": {},
     "output_type": "execute_result"
    }
   ],
   "source": [
    "forest = RandomForestClassifier(random_state=695)   \n",
    "\n",
    "cv_results = cross_validate(forest, X_train, y_train, cv=5)\n",
    "cv_results['test_score']"
   ]
  },
  {
   "cell_type": "code",
   "execution_count": 11,
   "id": "treated-audience",
   "metadata": {},
   "outputs": [
    {
     "data": {
      "text/plain": [
       "0.6726251889531396"
      ]
     },
     "execution_count": 11,
     "metadata": {},
     "output_type": "execute_result"
    }
   ],
   "source": [
    "clf = RandomForestClassifier(random_state=695)   \n",
    "clf.fit(X_train,y_train)\n",
    "clf.score(X_test,y_test)"
   ]
  },
  {
   "cell_type": "code",
   "execution_count": 12,
   "id": "uniform-algeria",
   "metadata": {},
   "outputs": [
    {
     "data": {
      "text/plain": [
       "array([0.62209259, 0.62504686, 0.62452199, 0.62429705, 0.62102216])"
      ]
     },
     "execution_count": 12,
     "metadata": {},
     "output_type": "execute_result"
    }
   ],
   "source": [
    "adaboost = AdaBoostClassifier(random_state=695)   \n",
    "\n",
    "cv_results = cross_validate(adaboost, X_train, y_train, cv=5)\n",
    "cv_results['test_score']"
   ]
  },
  {
   "cell_type": "code",
   "execution_count": 13,
   "id": "extra-range",
   "metadata": {},
   "outputs": [
    {
     "data": {
      "text/plain": [
       "0.6209779974566307"
      ]
     },
     "execution_count": 13,
     "metadata": {},
     "output_type": "execute_result"
    }
   ],
   "source": [
    "clf = AdaBoostClassifier(random_state=695)   \n",
    "clf.fit(X_train,y_train)\n",
    "clf.score(X_test,y_test)"
   ]
  },
  {
   "cell_type": "code",
   "execution_count": 14,
   "id": "chicken-disney",
   "metadata": {},
   "outputs": [
    {
     "name": "stdout",
     "output_type": "stream",
     "text": [
      "array([0.64262590, 0.64504612, 0.64652006, 0.644797045, 0.64102216])\n"
     ]
    }
   ],
   "source": [
    "g_boost = GradientBoostingClassifier(random_state=695)   \n",
    "\n",
    "cv_results = cross_validate(g_boost, X_train, y_train, cv=5)\n",
    "cv_results['test_score']"
   ]
  },
  {
   "cell_type": "code",
   "execution_count": 15,
   "id": "atlantic-capitol",
   "metadata": {},
   "outputs": [
    {
     "data": {
      "text/plain": [
       "0.6460397821340308"
      ]
     },
     "execution_count": 15,
     "metadata": {},
     "output_type": "execute_result"
    }
   ],
   "source": [
    "clf = GradientBoostingClassifier(random_state=695)   \n",
    "clf.fit(X_train,y_train)\n",
    "clf.score(X_test,y_test)"
   ]
  },
  {
   "cell_type": "code",
   "execution_count": null,
   "id": "vulnerable-canon",
   "metadata": {},
   "outputs": [],
   "source": []
  }
 ],
 "metadata": {
  "kernelspec": {
   "display_name": "Python 3",
   "language": "python",
   "name": "python3"
  },
  "language_info": {
   "codemirror_mode": {
    "name": "ipython",
    "version": 3
   },
   "file_extension": ".py",
   "mimetype": "text/x-python",
   "name": "python",
   "nbconvert_exporter": "python",
   "pygments_lexer": "ipython3",
   "version": "3.7.10"
  }
 },
 "nbformat": 4,
 "nbformat_minor": 5
}
